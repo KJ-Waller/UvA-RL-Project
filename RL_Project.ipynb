{
 "cells": [
  {
   "cell_type": "code",
   "execution_count": 1,
   "id": "7ccab316",
   "metadata": {},
   "outputs": [],
   "source": [
    "import matplotlib.pyplot as plt\n",
    "import numpy as np\n",
    "\n",
    "from DQN_train import train_dqn\n",
    "from DDQN_train import train_ddqn"
   ]
  },
  {
   "cell_type": "code",
   "execution_count": 2,
   "id": "8c67fe81",
   "metadata": {},
   "outputs": [],
   "source": [
    "env_name = 'CartPole-v1'\n",
    "\n",
    "n_episodes = 1000\n",
    "batch_size = 64\n",
    "hidden_dim = 128\n",
    "lr = 1e-3\n",
    "gamma = 0.8\n",
    "eps_start = 1.0\n",
    "eps_end = 0.05\n",
    "eps_decay_iters = 1000\n",
    "mem_cap = 10000\n",
    "seed = 42"
   ]
  },
  {
   "cell_type": "code",
   "execution_count": null,
   "id": "980ed175",
   "metadata": {
    "scrolled": true
   },
   "outputs": [
    {
     "name": "stderr",
     "output_type": "stream",
     "text": [
      "/home/kjw/anaconda3/envs/rlcourse/lib/python3.7/site-packages/gym/envs/registration.py:14: PkgResourcesDeprecationWarning: Parameters to load are deprecated.  Call .resolve and .require separately.\n",
      "  result = entry_point.load(False)\n"
     ]
    },
    {
     "name": "stdout",
     "output_type": "stream",
     "text": [
      "Episode 0 finished after 8 steps with cumulative return 4.161139200000001\n",
      "Episode 10 finished after 19 steps with cumulative return 4.927942405962074\n",
      "Episode 20 finished after 22 steps with cumulative return 4.963106511852582\n",
      "Episode 30 finished after 15 steps with cumulative return 4.824078139555841\n",
      "Episode 40 finished after 18 steps with cumulative return 4.909928007452591\n",
      "Episode 50 finished after 42 steps with cumulative return 4.999574647041351\n",
      "Episode 60 finished after 99 steps with cumulative return 4.999999998726855\n",
      "Episode 70 finished after 80 steps with cumulative return 4.999999911657649\n",
      "Episode 80 finished after 86 steps with cumulative return 4.999999976841584\n",
      "Episode 90 finished after 132 steps with cumulative return 4.999999999999196\n",
      "Episode 100 finished after 166 steps with cumulative return 5.000000000000001\n",
      "Episode 110 finished after 284 steps with cumulative return 5.000000000000001\n",
      "Episode 120 finished after 163 steps with cumulative return 5.000000000000001\n",
      "Episode 130 finished after 206 steps with cumulative return 5.000000000000001\n",
      "Episode 140 finished after 324 steps with cumulative return 5.000000000000001\n",
      "Episode 150 finished after 157 steps with cumulative return 4.999999999999999\n",
      "Episode 160 finished after 170 steps with cumulative return 5.000000000000001\n",
      "Episode 170 finished after 59 steps with cumulative return 4.999990421902872\n",
      "Episode 180 finished after 201 steps with cumulative return 5.000000000000001\n",
      "Episode 190 finished after 28 steps with cumulative return 4.990328593443086\n",
      "Episode 200 finished after 286 steps with cumulative return 5.000000000000001\n",
      "Episode 210 finished after 205 steps with cumulative return 5.000000000000001\n",
      "Episode 220 finished after 260 steps with cumulative return 5.000000000000001\n",
      "Episode 230 finished after 204 steps with cumulative return 5.000000000000001\n",
      "Episode 240 finished after 78 steps with cumulative return 4.999999861965075\n",
      "Episode 250 finished after 170 steps with cumulative return 5.000000000000001\n",
      "Episode 260 finished after 95 steps with cumulative return 4.999999996891733\n",
      "Episode 270 finished after 202 steps with cumulative return 5.000000000000001\n",
      "Episode 280 finished after 161 steps with cumulative return 5.000000000000001\n",
      "Episode 290 finished after 216 steps with cumulative return 5.000000000000001\n",
      "Episode 300 finished after 54 steps with cumulative return 4.999970769967256\n",
      "Episode 310 finished after 231 steps with cumulative return 5.000000000000001\n",
      "Episode 320 finished after 254 steps with cumulative return 5.000000000000001\n",
      "Episode 330 finished after 41 steps with cumulative return 4.9994683088016885\n",
      "Episode 340 finished after 200 steps with cumulative return 5.000000000000001\n",
      "Episode 350 finished after 76 steps with cumulative return 4.999999784320429\n",
      "Episode 360 finished after 121 steps with cumulative return 4.999999999990609\n",
      "Episode 370 finished after 145 steps with cumulative return 4.999999999999958\n",
      "Episode 380 finished after 198 steps with cumulative return 5.000000000000001\n",
      "Episode 390 finished after 197 steps with cumulative return 5.000000000000001\n",
      "Episode 400 finished after 113 steps with cumulative return 4.999999999944009\n",
      "Episode 410 finished after 310 steps with cumulative return 5.000000000000001\n",
      "Episode 420 finished after 151 steps with cumulative return 4.99999999999999\n",
      "Episode 430 finished after 222 steps with cumulative return 5.000000000000001\n",
      "Episode 440 finished after 291 steps with cumulative return 5.000000000000001\n",
      "Episode 450 finished after 37 steps with cumulative return 4.998701925785369\n",
      "Episode 460 finished after 151 steps with cumulative return 4.99999999999999\n",
      "Episode 470 finished after 126 steps with cumulative return 4.999999999996924\n",
      "Episode 480 finished after 184 steps with cumulative return 5.000000000000001\n",
      "Episode 490 finished after 152 steps with cumulative return 4.999999999999993\n",
      "Episode 500 finished after 28 steps with cumulative return 4.990328593443086\n",
      "Episode 510 finished after 20 steps with cumulative return 4.942353924769659\n",
      "Episode 520 finished after 254 steps with cumulative return 5.000000000000001\n",
      "Episode 530 finished after 230 steps with cumulative return 5.000000000000001\n",
      "Episode 540 finished after 256 steps with cumulative return 5.000000000000001\n",
      "Episode 550 finished after 41 steps with cumulative return 4.9994683088016885\n",
      "Episode 560 finished after 220 steps with cumulative return 5.000000000000001\n",
      "Episode 570 finished after 132 steps with cumulative return 4.999999999999196\n",
      "Episode 580 finished after 210 steps with cumulative return 5.000000000000001\n",
      "Episode 590 finished after 156 steps with cumulative return 4.999999999999998\n",
      "Episode 600 finished after 69 steps with cumulative return 4.999998971559654\n",
      "Episode 610 finished after 152 steps with cumulative return 4.999999999999993\n"
     ]
    }
   ],
   "source": [
    "dqn_durations, dqn_returns = train_dqn(env_name, n_episodes, batch_size, hidden_dim, lr, gamma, \n",
    "                                       eps_start, eps_end, eps_decay_iters, mem_cap, seed)"
   ]
  },
  {
   "cell_type": "code",
   "execution_count": null,
   "id": "5cde5fac",
   "metadata": {
    "scrolled": true
   },
   "outputs": [],
   "source": [
    "ddqn_durations, ddqn_returns = train_ddqn(env_name, n_episodes, batch_size, hidden_dim, lr, gamma,\n",
    "                                          eps_start, eps_end, eps_decay_iters, mem_cap, seed)"
   ]
  },
  {
   "cell_type": "code",
   "execution_count": null,
   "id": "64d944c1",
   "metadata": {},
   "outputs": [],
   "source": [
    "def smooth(x, N):\n",
    "    cumsum = np.cumsum(np.insert(x, 0, 0)) \n",
    "    return (cumsum[N:] - cumsum[:-N]) / float(N)\n",
    "\n",
    "def plot_run(durations, returns, \n",
    "             method_name='DQN', env_name='CartPole'):\n",
    "\n",
    "    plt.plot(smooth(durations, 10))\n",
    "    plt.title(f'Episode durations per episode for {method_name} on {env_name}')\n",
    "    plt.xlabel('Episode')\n",
    "    plt.ylabel('Time steps')\n",
    "    plt.show()\n",
    "\n",
    "    plt.plot(smooth(returns, 10))\n",
    "    plt.title(f'Episode returns per episode for {method_name} on {env_name}')\n",
    "    plt.xlabel('Episode')\n",
    "    plt.ylabel('Return (G)')\n",
    "    plt.show()\n",
    "\n",
    "def plot_compare(durations_1, returns_1, durations_2, returns_2, \n",
    "                 method1='DQN', method2='DDQN', env_name='CartPole'):\n",
    "    plt.plot(smooth(durations_1, 10), label=method1)\n",
    "    plt.plot(smooth(durations_2, 10), label=method2)\n",
    "    plt.title(f'Episode durations per episode on {env_name}')\n",
    "    plt.xlabel('Episode')\n",
    "    plt.ylabel('Time steps')\n",
    "    plt.legend()\n",
    "    plt.show()\n",
    "    \n",
    "    plt.plot(smooth(returns_1, 10), label=method1)\n",
    "    plt.plot(smooth(returns_2, 10), label=method2)\n",
    "    plt.title(f'Episode returns per episode on {env_name}')\n",
    "    plt.xlabel('Episode')\n",
    "    plt.ylabel('Return (G)')\n",
    "    plt.legend()\n",
    "    plt.show()"
   ]
  },
  {
   "cell_type": "code",
   "execution_count": null,
   "id": "e5fad53f",
   "metadata": {},
   "outputs": [],
   "source": [
    "plot_run(dqn_durations, dqn_returns)"
   ]
  },
  {
   "cell_type": "code",
   "execution_count": null,
   "id": "6fed66c8",
   "metadata": {},
   "outputs": [],
   "source": [
    "plot_run(ddqn_durations, ddqn_returns)"
   ]
  },
  {
   "cell_type": "code",
   "execution_count": null,
   "id": "e350c851",
   "metadata": {},
   "outputs": [],
   "source": [
    "plot_compare(dqn_durations, dqn_returns, ddqn_durations, ddqn_returns)"
   ]
  },
  {
   "cell_type": "code",
   "execution_count": null,
   "id": "c6fac144",
   "metadata": {},
   "outputs": [],
   "source": []
  }
 ],
 "metadata": {
  "kernelspec": {
   "display_name": "Python 3",
   "language": "python",
   "name": "python3"
  },
  "language_info": {
   "codemirror_mode": {
    "name": "ipython",
    "version": 3
   },
   "file_extension": ".py",
   "mimetype": "text/x-python",
   "name": "python",
   "nbconvert_exporter": "python",
   "pygments_lexer": "ipython3",
   "version": "3.7.3"
  }
 },
 "nbformat": 4,
 "nbformat_minor": 5
}
